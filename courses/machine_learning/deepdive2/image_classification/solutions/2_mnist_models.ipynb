{
 "cells": [
  {
   "cell_type": "markdown",
   "metadata": {},
   "source": [
    "# MNIST Image Classification with TensorFlow on Cloud ML Engine\n",
    "\n",
    "This notebook demonstrates how to implement different image models on MNIST using the [tf.keras API](https://www.tensorflow.org/versions/r2.0/api_docs/python/tf/keras).\n",
    "\n",
    "## Learning Objectives\n",
    "1. Understand how to build a Dense Neural Network (DNN) for image classification\n",
    "2. Understand how to use dropout (DNN) for image classification\n",
    "3. Understand how to use Convolutional Neural Networks (CNN)\n",
    "4. Know how to deploy and use an image classifcation model using Google Cloud's [AI Platform](https://cloud.google.com/ai-platform/)\n",
    "\n",
    "First things first. Configure the parameters below to match your own Google Cloud project details."
   ]
  },
  {
   "cell_type": "code",
   "execution_count": 1,
   "metadata": {},
   "outputs": [],
   "source": [
    "from datetime import datetime\n",
    "import os\n",
    "\n",
    "PROJECT = \"your-project-id-here\"  # REPLACE WITH YOUR PROJECT ID\n",
    "BUCKET = \"your-bucket-id-here\"  # REPLACE WITH YOUR BUCKET NAME\n",
    "REGION = \"us-central1\"  # REPLACE WITH YOUR BUCKET REGION e.g. us-central1\n",
    "\n",
    "# Do not change these\n",
    "os.environ[\"PROJECT\"] = PROJECT\n",
    "os.environ[\"BUCKET\"] = BUCKET\n",
    "os.environ[\"REGION\"] = REGION\n",
    "os.environ[\"IMAGE_URI\"] = os.path.join(\"gcr.io\", PROJECT, \"mnist_trainer\")"
   ]
  },
  {
   "cell_type": "markdown",
   "metadata": {},
   "source": [
    "## Building a dynamic model\n",
    "\n",
    "In the previous notebook, <a href=\"mnist_linear.ipynb\">mnist_linear.ipynb</a>, we ran our code directly from the notebook. In order to run it on the AI Platform, it needs to be packaged as a python module. We'll make our code production ready with some unit tests as well.\n",
    "\n",
    "The boilerplate structure for this module will be created by running the cell below, building the folder `mnist_models`. The module lives in the sub-folder, `trainer`, and is designated as a python package with the empty `__init__.py` (`mnist_models/trainer/__init__.py`) file."
   ]
  },
  {
   "cell_type": "code",
   "execution_count": 2,
   "metadata": {},
   "outputs": [],
   "source": [
    "%%bash\n",
    "[ -d \"mnist_trainer\" ] && rm -r mnist_trainer\n",
    "mkdir mnist_trainer\n",
    "mkdir mnist_trainer/trainer\n",
    "touch mnist_trainer/trainer/__init__.py"
   ]
  },
  {
   "cell_type": "markdown",
   "metadata": {},
   "source": [
    "The module still needs the model and a trainer to run it, so let's make them.\n",
    "\n",
    "Let's start with the trainer file first. This file parses command line arguments to feed into model."
   ]
  },
  {
   "cell_type": "code",
   "execution_count": 3,
   "metadata": {},
   "outputs": [
    {
     "name": "stdout",
     "output_type": "stream",
     "text": [
      "Writing mnist_trainer/trainer/task.py\n"
     ]
    }
   ],
   "source": [
    "%%writefile mnist_trainer/trainer/task.py\n",
    "import argparse\n",
    "import json\n",
    "import os\n",
    "import sys\n",
    "\n",
    "from . import model\n",
    "\n",
    "\n",
    "def _parse_arguments(argv):\n",
    "    \"\"\"Parses command-line arguments.\"\"\"\n",
    "    parser = argparse.ArgumentParser()\n",
    "    parser.add_argument(\n",
    "        '--model_type',\n",
    "        help='Which model type to use',\n",
    "        type=str, default='linear')\n",
    "    parser.add_argument(\n",
    "        '--epochs',\n",
    "        help='The number of epochs to train',\n",
    "        type=int, default=10)\n",
    "    parser.add_argument(\n",
    "        '--steps_per_epoch',\n",
    "        help='The number of steps per epoch to train',\n",
    "        type=int, default=100)\n",
    "    parser.add_argument(\n",
    "        '--job-dir',\n",
    "        help='Directory where to save the given model',\n",
    "        type=str, default='mnist_models/')\n",
    "    return parser.parse_known_args(argv)\n",
    "\n",
    "\n",
    "def main():\n",
    "    \"\"\"Parses command line arguments and kicks off model training.\"\"\"\n",
    "    args = _parse_arguments(sys.argv[1:])[0]\n",
    "\n",
    "    # Configure path for hyperparameter tuning.\n",
    "    trial_id = json.loads(\n",
    "        os.environ.get('TF_CONFIG', '{}')).get('task', {}).get('trial', '')\n",
    "    output_path = args.job_dir if not trial_id else args.job_dir + '/'\n",
    "\n",
    "    model_layers = model.get_layers(args.model_type)\n",
    "    image_model = model.build_model(model_layers, args.job_dir)\n",
    "    model_history = model.train_and_evaluate(\n",
    "        image_model, args.epochs, args.steps_per_epoch, args.job_dir)\n",
    "\n",
    "\n",
    "if __name__ == '__main__':\n",
    "    main()\n"
   ]
  },
  {
   "cell_type": "markdown",
   "metadata": {},
   "source": [
    "Next, let's group non-model functions into a util file to keep the model file simple. We'll copy over the `scale` and `load_dataset` functions from the previous lab."
   ]
  },
  {
   "cell_type": "code",
   "execution_count": 4,
   "metadata": {},
   "outputs": [
    {
     "name": "stdout",
     "output_type": "stream",
     "text": [
      "Writing mnist_trainer/trainer/util.py\n"
     ]
    }
   ],
   "source": [
    "%%writefile mnist_trainer/trainer/util.py\n",
    "import tensorflow as tf\n",
    "\n",
    "\n",
    "def scale(image, label):\n",
    "    \"\"\"Scales images from a 0-255 int range to a 0-1 float range\"\"\"\n",
    "    image = tf.cast(image, tf.float32)\n",
    "    image /= 255\n",
    "    image = tf.expand_dims(image, -1)\n",
    "    return image, label\n",
    "\n",
    "\n",
    "def load_dataset(\n",
    "        data, training=True, buffer_size=5000, batch_size=100, nclasses=10):\n",
    "    \"\"\"Loads MNIST dataset into a tf.data.Dataset\"\"\"\n",
    "    (x_train, y_train), (x_test, y_test) = data\n",
    "    x = x_train if training else x_test\n",
    "    y = y_train if training else y_test\n",
    "    # One-hot encode the classes\n",
    "    y = tf.keras.utils.to_categorical(y, nclasses)\n",
    "    dataset = tf.data.Dataset.from_tensor_slices((x, y))\n",
    "    dataset = dataset.map(scale).batch(batch_size)\n",
    "    if training:\n",
    "        dataset = dataset.shuffle(buffer_size).repeat()\n",
    "    return dataset\n"
   ]
  },
  {
   "cell_type": "markdown",
   "metadata": {},
   "source": [
    "Finally, let's code the models! The [tf.keras API](https://www.tensorflow.org/versions/r2.0/api_docs/python/tf/keras) accepts an array of [layers](https://www.tensorflow.org/api_docs/python/tf/keras/layers) into a [model object](https://www.tensorflow.org/api_docs/python/tf/keras/Model), so we can create a dictionary of layers based on the different model types we want to use. The below file has two functions: `get_layers` and `create_and_train_model`. We will build the structure of our model in `get_layers`. Last but not least, we'll copy over the training code from the previous lab into `train_and_evaluate`.\n",
    "\n",
    "**TODO 1**: Define the Keras layers for a DNN model   \n",
    "**TODO 2**: Define the Keras layers for a dropout model  \n",
    "**TODO 3**: Define the Keras layers for a CNN model  \n",
    "\n",
    "Hint: These models progressively build on each other. Look at the imported `tensorflow.keras.layers` modules and the default values for the variables defined in `get_layers` for guidance."
   ]
  },
  {
   "cell_type": "code",
   "execution_count": 5,
   "metadata": {},
   "outputs": [
    {
     "name": "stdout",
     "output_type": "stream",
     "text": [
      "Writing mnist_trainer/trainer/model.py\n"
     ]
    }
   ],
   "source": [
    "%%writefile mnist_trainer/trainer/model.py\n",
    "import os\n",
    "import shutil\n",
    "\n",
    "import matplotlib.pyplot as plt\n",
    "import numpy as np\n",
    "import tensorflow as tf\n",
    "from tensorflow.keras import Sequential\n",
    "from tensorflow.keras.callbacks import TensorBoard\n",
    "from tensorflow.keras.layers import (\n",
    "    Conv2D, Dense, Dropout, Flatten, MaxPooling2D, Softmax)\n",
    "\n",
    "from . import util\n",
    "\n",
    "\n",
    "# Image Variables\n",
    "WIDTH = 28\n",
    "HEIGHT = 28\n",
    "\n",
    "\n",
    "def get_layers(\n",
    "        model_type,\n",
    "        \n",
    "        # Linear parameters.\n",
    "        nclasses=10,\n",
    "\n",
    "        # DNN parameters.\n",
    "        hidden_layer_1_neurons=400,\n",
    "        hidden_layer_2_neurons=100,\n",
    "\n",
    "        # Dropout parameters.\n",
    "        dropout_rate=0.25,\n",
    "\n",
    "        # CNN parameters.\n",
    "        num_filters_1=64,\n",
    "        kernel_size_1=3,\n",
    "        pooling_size_1=2,\n",
    "        num_filters_2=32,\n",
    "        kernel_size_2=3,\n",
    "        pooling_size_2=2):\n",
    "    \"\"\"Constructs layers for a keras model based on a dict of model types.\"\"\"\n",
    "    model_layers = {\n",
    "        'linear': [\n",
    "            Flatten(),\n",
    "            Dense(nclasses),\n",
    "            Softmax()\n",
    "        ],\n",
    "        'dnn': [\n",
    "            Flatten(),\n",
    "            Dense(hidden_layer_1_neurons, activation='relu'),\n",
    "            Dense(hidden_layer_2_neurons, activation='relu'),\n",
    "            Dense(nclasses),\n",
    "            Softmax()\n",
    "        ],\n",
    "        'dnn_dropout': [\n",
    "            Flatten(),\n",
    "            Dense(hidden_layer_1_neurons, activation='relu'),\n",
    "            Dense(hidden_layer_2_neurons, activation='relu'),\n",
    "            Dropout(dropout_rate),\n",
    "            Dense(nclasses),\n",
    "            Softmax()\n",
    "        ],\n",
    "        'cnn': [\n",
    "            Conv2D(num_filters_1, kernel_size=kernel_size_1,\n",
    "                   activation='relu', input_shape=(WIDTH, HEIGHT, 1)),\n",
    "            MaxPooling2D(pooling_size_1),\n",
    "            Conv2D(num_filters_2, kernel_size=kernel_size_2,\n",
    "                   activation='relu'),\n",
    "            MaxPooling2D(pooling_size_2),\n",
    "            Flatten(),\n",
    "            Dense(hidden_layer_1_neurons, activation='relu'),\n",
    "            Dense(hidden_layer_2_neurons, activation='relu'),\n",
    "            Dropout(dropout_rate),\n",
    "            Dense(nclasses),\n",
    "            Softmax()\n",
    "        ]\n",
    "    }\n",
    "    return model_layers[model_type]\n",
    "\n",
    "\n",
    "def build_model(layers, output_dir):\n",
    "    \"\"\"Compiles keras model for image classification.\"\"\"\n",
    "    model = Sequential(layers)\n",
    "    model.compile(optimizer='adam',\n",
    "                  loss='categorical_crossentropy',\n",
    "                  metrics=['accuracy'])\n",
    "    return model\n",
    "\n",
    "\n",
    "def train_and_evaluate(model, num_epochs, steps_per_epoch, output_dir):\n",
    "    \"\"\"Compiles keras model and loads data into it for training.\"\"\"\n",
    "    mnist = tf.keras.datasets.mnist.load_data()\n",
    "    train_data = util.load_dataset(mnist)\n",
    "    validation_data = util.load_dataset(mnist, training=False)\n",
    "\n",
    "    callbacks = []\n",
    "    if output_dir:\n",
    "        tensorboard_callback = TensorBoard(log_dir=output_dir)\n",
    "        callbacks = [tensorboard_callback]\n",
    "\n",
    "    history = model.fit(\n",
    "        train_data,\n",
    "        validation_data=validation_data,\n",
    "        epochs=num_epochs,\n",
    "        steps_per_epoch=steps_per_epoch,\n",
    "        verbose=2,\n",
    "        callbacks=callbacks)\n",
    "\n",
    "    if output_dir:\n",
    "        export_path = os.path.join(output_dir, 'keras_export')\n",
    "        model.save(export_path, save_format='tf')\n",
    "\n",
    "    return history\n"
   ]
  },
  {
   "cell_type": "markdown",
   "metadata": {},
   "source": [
    "## Local Training\n",
    "\n",
    "With everything set up, let's run locally to test the code. Some of the previous tests have been copied over into a testing script `mnist_models/trainer/test.py` to make sure the model still passes our previous checks. On `line 13`, you can specify which model types you would like to check. `line 14` and `line 15` has the number of epochs and steps per epoch respectively."
   ]
  },
  {
   "cell_type": "code",
   "execution_count": 6,
   "metadata": {},
   "outputs": [
    {
     "name": "stdout",
     "output_type": "stream",
     "text": [
      "Writing mnist_trainer/trainer/test.py\n"
     ]
    }
   ],
   "source": [
    "%%writefile mnist_trainer/trainer/test.py\n",
    "import tensorflow as tf\n",
    "import unittest\n",
    "\n",
    "from . import util\n",
    "from . import model\n",
    "\n",
    "BENCHMARK_ERROR = .12\n",
    "BENCHMARK_ACCURACY = 1 - BENCHMARK_ERROR\n",
    "BATCH_SIZE = 100\n",
    "\n",
    "# Add or remove types below ['linear', 'dnn', 'dnn_dropout', 'cnn'].\n",
    "MODEL_TYPES = ['linear', 'dnn', 'dnn_dropout', 'cnn']\n",
    "EPOCHS = 10\n",
    "STEPS = 100\n",
    "\n",
    "\n",
    "class TestInputFunction(unittest.TestCase):\n",
    "    def create_shape_test(self, training):\n",
    "        mnist = tf.keras.datasets.mnist.load_data()\n",
    "        dataset = util.load_dataset(mnist, training, batch_size=BATCH_SIZE)\n",
    "        data_iter = dataset.__iter__()\n",
    "        (images, labels) = data_iter.get_next()\n",
    "        expected_image_shape = (BATCH_SIZE, model.HEIGHT, model.WIDTH, 1)\n",
    "        expected_label_ndim = 2\n",
    "        self.assertEqual(images.shape, expected_image_shape)\n",
    "        self.assertEqual(labels.numpy().ndim, expected_label_ndim)\n",
    "\n",
    "    def test_train_dataset_batches_has_correct_shapes(self):\n",
    "        self.create_shape_test(True)\n",
    "\n",
    "    def test_eval_dataset_batches_has_correct_shapes(self):\n",
    "        self.create_shape_test(False)\n",
    "\n",
    "\n",
    "class TestModel(unittest.TestCase):\n",
    "    @classmethod\n",
    "    def setUpClass(cls):\n",
    "        cls.histories = {}\n",
    "\n",
    "        for model_type in MODEL_TYPES:\n",
    "            print('\\n*** Building model for', model_type, '***\\n')\n",
    "            layers = model.get_layers(model_type)\n",
    "            image_model = model.build_model(layers, None)\n",
    "            history = model.train_and_evaluate(\n",
    "                image_model, EPOCHS, STEPS, None)\n",
    "            cls.histories[model_type] = history.history\n",
    "\n",
    "    def test_beats_benchmark(self):\n",
    "        for model_type in MODEL_TYPES:\n",
    "            with self.subTest(model_type=model_type):\n",
    "                result = self.histories[model_type]\n",
    "                self.assertGreater(result['accuracy'][-1], BENCHMARK_ACCURACY)\n",
    "                self.assertGreater(\n",
    "                    result['val_accuracy'][-1], BENCHMARK_ACCURACY)\n",
    "\n",
    "    def test_accuracy_is_improving(self):\n",
    "        for model_type in MODEL_TYPES:\n",
    "            with self.subTest(model_type=model_type):\n",
    "                history = self.histories[model_type]\n",
    "                accuracy = history['accuracy']\n",
    "                val_accuracy = history['val_accuracy']\n",
    "                self.assertLess(accuracy[0], accuracy[1])\n",
    "                self.assertLess(accuracy[1], accuracy[-1])\n",
    "                self.assertLess(val_accuracy[0], val_accuracy[1])\n",
    "                self.assertLess(val_accuracy[1], val_accuracy[-1])\n",
    "\n",
    "    def test_loss_is_decreasing(self):\n",
    "        for model_type in MODEL_TYPES:\n",
    "            with self.subTest(model_type=model_type):\n",
    "                history = self.histories[model_type]\n",
    "                loss = history['loss']\n",
    "                val_loss = history['val_loss']\n",
    "                self.assertGreater(loss[0], loss[1])\n",
    "                self.assertGreater(loss[1], loss[-1])\n",
    "                self.assertGreater(val_loss[0], val_loss[1])\n",
    "                self.assertGreater(val_loss[1], val_loss[-1])\n",
    "\n",
    "\n",
    "if __name__ == '__main__':\n",
    "    unittest.main()\n"
   ]
  },
  {
   "cell_type": "markdown",
   "metadata": {},
   "source": [
    "Moment of truth! Run the code below to check your models against the unit tests. If you see \"OK\" at the end when it's finished running, congrats! You've passed the tests!"
   ]
  },
  {
   "cell_type": "code",
   "execution_count": 7,
   "metadata": {},
   "outputs": [
    {
     "name": "stdout",
     "output_type": "stream",
     "text": [
      "2019-12-06 02:43:43.988035: I tensorflow/stream_executor/platform/default/dso_loader.cc:44] Successfully opened dynamic library libcudart.so.10.0\n",
      "2019-12-06 02:43:46.847317: I tensorflow/stream_executor/platform/default/dso_loader.cc:44] Successfully opened dynamic library libcuda.so.1\n",
      "2019-12-06 02:43:46.851435: I tensorflow/stream_executor/cuda/cuda_gpu_executor.cc:1006] successful NUMA node read from SysFS had negative value (-1), but there must be at least one NUMA node, so returning NUMA node zero\n",
      "2019-12-06 02:43:46.851732: I tensorflow/core/common_runtime/gpu/gpu_device.cc:1618] Found device 0 with properties: \n",
      "name: Tesla K80 major: 3 minor: 7 memoryClockRate(GHz): 0.562\n",
      "pciBusID: 0000:00:04.0\n",
      "2019-12-06 02:43:46.851783: I tensorflow/stream_executor/platform/default/dso_loader.cc:44] Successfully opened dynamic library libcudart.so.10.0\n",
      "2019-12-06 02:43:46.854032: I tensorflow/stream_executor/platform/default/dso_loader.cc:44] Successfully opened dynamic library libcublas.so.10.0\n",
      "2019-12-06 02:43:46.855636: I tensorflow/stream_executor/platform/default/dso_loader.cc:44] Successfully opened dynamic library libcufft.so.10.0\n",
      "2019-12-06 02:43:46.855983: I tensorflow/stream_executor/platform/default/dso_loader.cc:44] Successfully opened dynamic library libcurand.so.10.0\n",
      "2019-12-06 02:43:46.858614: I tensorflow/stream_executor/platform/default/dso_loader.cc:44] Successfully opened dynamic library libcusolver.so.10.0\n",
      "2019-12-06 02:43:46.860562: I tensorflow/stream_executor/platform/default/dso_loader.cc:44] Successfully opened dynamic library libcusparse.so.10.0\n",
      "2019-12-06 02:43:46.865578: I tensorflow/stream_executor/platform/default/dso_loader.cc:44] Successfully opened dynamic library libcudnn.so.7\n",
      "2019-12-06 02:43:46.865697: I tensorflow/stream_executor/cuda/cuda_gpu_executor.cc:1006] successful NUMA node read from SysFS had negative value (-1), but there must be at least one NUMA node, so returning NUMA node zero\n",
      "2019-12-06 02:43:46.866018: I tensorflow/stream_executor/cuda/cuda_gpu_executor.cc:1006] successful NUMA node read from SysFS had negative value (-1), but there must be at least one NUMA node, so returning NUMA node zero\n",
      "2019-12-06 02:43:46.866264: I tensorflow/core/common_runtime/gpu/gpu_device.cc:1746] Adding visible gpu devices: 0\n",
      "2019-12-06 02:43:46.866694: I tensorflow/core/platform/cpu_feature_guard.cc:142] Your CPU supports instructions that this TensorFlow binary was not compiled to use: AVX2 FMA\n",
      "2019-12-06 02:43:46.874744: I tensorflow/core/platform/profile_utils/cpu_utils.cc:94] CPU Frequency: 2200000000 Hz\n",
      "2019-12-06 02:43:46.875046: I tensorflow/compiler/xla/service/service.cc:168] XLA service 0x5583128398a0 executing computations on platform Host. Devices:\n",
      "2019-12-06 02:43:46.875083: I tensorflow/compiler/xla/service/service.cc:175]   StreamExecutor device (0): Host, Default Version\n",
      "2019-12-06 02:43:46.949725: I tensorflow/stream_executor/cuda/cuda_gpu_executor.cc:1006] successful NUMA node read from SysFS had negative value (-1), but there must be at least one NUMA node, so returning NUMA node zero\n",
      "2019-12-06 02:43:46.950217: I tensorflow/compiler/xla/service/service.cc:168] XLA service 0x558312857420 executing computations on platform CUDA. Devices:\n",
      "2019-12-06 02:43:46.950258: I tensorflow/compiler/xla/service/service.cc:175]   StreamExecutor device (0): Tesla K80, Compute Capability 3.7\n",
      "2019-12-06 02:43:46.950536: I tensorflow/stream_executor/cuda/cuda_gpu_executor.cc:1006] successful NUMA node read from SysFS had negative value (-1), but there must be at least one NUMA node, so returning NUMA node zero\n",
      "2019-12-06 02:43:46.950826: I tensorflow/core/common_runtime/gpu/gpu_device.cc:1618] Found device 0 with properties: \n",
      "name: Tesla K80 major: 3 minor: 7 memoryClockRate(GHz): 0.562\n",
      "pciBusID: 0000:00:04.0\n",
      "2019-12-06 02:43:46.950887: I tensorflow/stream_executor/platform/default/dso_loader.cc:44] Successfully opened dynamic library libcudart.so.10.0\n",
      "2019-12-06 02:43:46.950949: I tensorflow/stream_executor/platform/default/dso_loader.cc:44] Successfully opened dynamic library libcublas.so.10.0\n",
      "2019-12-06 02:43:46.950984: I tensorflow/stream_executor/platform/default/dso_loader.cc:44] Successfully opened dynamic library libcufft.so.10.0\n",
      "2019-12-06 02:43:46.951019: I tensorflow/stream_executor/platform/default/dso_loader.cc:44] Successfully opened dynamic library libcurand.so.10.0\n",
      "2019-12-06 02:43:46.951055: I tensorflow/stream_executor/platform/default/dso_loader.cc:44] Successfully opened dynamic library libcusolver.so.10.0\n",
      "2019-12-06 02:43:46.951088: I tensorflow/stream_executor/platform/default/dso_loader.cc:44] Successfully opened dynamic library libcusparse.so.10.0\n",
      "2019-12-06 02:43:46.951121: I tensorflow/stream_executor/platform/default/dso_loader.cc:44] Successfully opened dynamic library libcudnn.so.7\n",
      "2019-12-06 02:43:46.951212: I tensorflow/stream_executor/cuda/cuda_gpu_executor.cc:1006] successful NUMA node read from SysFS had negative value (-1), but there must be at least one NUMA node, so returning NUMA node zero\n",
      "2019-12-06 02:43:46.951511: I tensorflow/stream_executor/cuda/cuda_gpu_executor.cc:1006] successful NUMA node read from SysFS had negative value (-1), but there must be at least one NUMA node, so returning NUMA node zero\n",
      "2019-12-06 02:43:46.951753: I tensorflow/core/common_runtime/gpu/gpu_device.cc:1746] Adding visible gpu devices: 0\n",
      "2019-12-06 02:43:46.951805: I tensorflow/stream_executor/platform/default/dso_loader.cc:44] Successfully opened dynamic library libcudart.so.10.0\n",
      "2019-12-06 02:43:47.459148: I tensorflow/core/common_runtime/gpu/gpu_device.cc:1159] Device interconnect StreamExecutor with strength 1 edge matrix:\n",
      "2019-12-06 02:43:47.459217: I tensorflow/core/common_runtime/gpu/gpu_device.cc:1165]      0 \n",
      "2019-12-06 02:43:47.459234: I tensorflow/core/common_runtime/gpu/gpu_device.cc:1178] 0:   N \n",
      "2019-12-06 02:43:47.459567: I tensorflow/stream_executor/cuda/cuda_gpu_executor.cc:1006] successful NUMA node read from SysFS had negative value (-1), but there must be at least one NUMA node, so returning NUMA node zero\n",
      "2019-12-06 02:43:47.459922: I tensorflow/stream_executor/cuda/cuda_gpu_executor.cc:1006] successful NUMA node read from SysFS had negative value (-1), but there must be at least one NUMA node, so returning NUMA node zero\n",
      "2019-12-06 02:43:47.460250: I tensorflow/core/common_runtime/gpu/gpu_device.cc:1304] Created TensorFlow device (/job:localhost/replica:0/task:0/device:GPU:0 with 188 MB memory) -> physical GPU (device: 0, name: Tesla K80, pci bus id: 0000:00:04.0, compute capability: 3.7)\n",
      "..\n",
      "*** Building model for linear ***\n",
      "\n",
      "Train for 100 steps, validate for 100 steps\n",
      "Epoch 1/10\n",
      "2019-12-06 02:44:00.110140: I tensorflow/stream_executor/platform/default/dso_loader.cc:44] Successfully opened dynamic library libcublas.so.10.0\n",
      "100/100 - 8s - loss: 1.3204 - accuracy: 0.6651 - val_loss: 0.7858 - val_accuracy: 0.8339\n",
      "Epoch 2/10\n",
      "100/100 - 1s - loss: 0.6733 - accuracy: 0.8454 - val_loss: 0.5529 - val_accuracy: 0.8716\n",
      "Epoch 3/10\n",
      "100/100 - 1s - loss: 0.5340 - accuracy: 0.8638 - val_loss: 0.4660 - val_accuracy: 0.8849\n",
      "Epoch 4/10\n",
      "100/100 - 2s - loss: 0.4676 - accuracy: 0.8767 - val_loss: 0.4208 - val_accuracy: 0.8908\n",
      "Epoch 5/10\n",
      "100/100 - 2s - loss: 0.4171 - accuracy: 0.8910 - val_loss: 0.3900 - val_accuracy: 0.8993\n",
      "Epoch 6/10\n",
      "100/100 - 2s - loss: 0.3833 - accuracy: 0.9004 - val_loss: 0.3663 - val_accuracy: 0.9041\n",
      "Epoch 7/10\n",
      "100/100 - 7s - loss: 0.3621 - accuracy: 0.9047 - val_loss: 0.3528 - val_accuracy: 0.9060\n",
      "Epoch 8/10\n",
      "100/100 - 1s - loss: 0.3554 - accuracy: 0.9053 - val_loss: 0.3409 - val_accuracy: 0.9081\n",
      "Epoch 9/10\n",
      "100/100 - 1s - loss: 0.3701 - accuracy: 0.8957 - val_loss: 0.3323 - val_accuracy: 0.9121\n",
      "Epoch 10/10\n",
      "100/100 - 1s - loss: 0.3482 - accuracy: 0.9039 - val_loss: 0.3240 - val_accuracy: 0.9110\n",
      "\n",
      "*** Building model for dnn ***\n",
      "\n",
      "Train for 100 steps, validate for 100 steps\n",
      "Epoch 1/10\n",
      "100/100 - 7s - loss: 0.5798 - accuracy: 0.8328 - val_loss: 0.2824 - val_accuracy: 0.9174\n",
      "Epoch 2/10\n",
      "100/100 - 1s - loss: 0.2598 - accuracy: 0.9270 - val_loss: 0.2009 - val_accuracy: 0.9390\n",
      "Epoch 3/10\n",
      "100/100 - 1s - loss: 0.1965 - accuracy: 0.9426 - val_loss: 0.1665 - val_accuracy: 0.9499\n",
      "Epoch 4/10\n",
      "100/100 - 1s - loss: 0.1577 - accuracy: 0.9561 - val_loss: 0.1613 - val_accuracy: 0.9521\n",
      "Epoch 5/10\n",
      "100/100 - 1s - loss: 0.1434 - accuracy: 0.9559 - val_loss: 0.1343 - val_accuracy: 0.9584\n",
      "Epoch 6/10\n",
      "100/100 - 1s - loss: 0.1443 - accuracy: 0.9554 - val_loss: 0.1252 - val_accuracy: 0.9628\n",
      "Epoch 7/10\n",
      "100/100 - 7s - loss: 0.0969 - accuracy: 0.9699 - val_loss: 0.1178 - val_accuracy: 0.9634\n",
      "Epoch 8/10\n",
      "100/100 - 1s - loss: 0.1018 - accuracy: 0.9694 - val_loss: 0.1018 - val_accuracy: 0.9694\n",
      "Epoch 9/10\n",
      "100/100 - 1s - loss: 0.1049 - accuracy: 0.9683 - val_loss: 0.0983 - val_accuracy: 0.9682\n",
      "Epoch 10/10\n",
      "100/100 - 1s - loss: 0.0950 - accuracy: 0.9717 - val_loss: 0.0851 - val_accuracy: 0.9737\n",
      "\n",
      "*** Building model for dnn_dropout ***\n",
      "\n",
      "Train for 100 steps, validate for 100 steps\n",
      "Epoch 1/10\n",
      "100/100 - 7s - loss: 0.6548 - accuracy: 0.8079 - val_loss: 0.2965 - val_accuracy: 0.9121\n",
      "Epoch 2/10\n",
      "100/100 - 1s - loss: 0.3077 - accuracy: 0.9086 - val_loss: 0.2232 - val_accuracy: 0.9322\n",
      "Epoch 3/10\n",
      "100/100 - 1s - loss: 0.2355 - accuracy: 0.9339 - val_loss: 0.1658 - val_accuracy: 0.9489\n",
      "Epoch 4/10\n",
      "100/100 - 1s - loss: 0.2041 - accuracy: 0.9390 - val_loss: 0.1531 - val_accuracy: 0.9535\n",
      "Epoch 5/10\n",
      "100/100 - 1s - loss: 0.1709 - accuracy: 0.9503 - val_loss: 0.1310 - val_accuracy: 0.9586\n",
      "Epoch 6/10\n",
      "100/100 - 1s - loss: 0.1708 - accuracy: 0.9530 - val_loss: 0.1234 - val_accuracy: 0.9644\n",
      "Epoch 7/10\n",
      "100/100 - 8s - loss: 0.1383 - accuracy: 0.9611 - val_loss: 0.1114 - val_accuracy: 0.9653\n",
      "Epoch 8/10\n",
      "100/100 - 2s - loss: 0.1104 - accuracy: 0.9691 - val_loss: 0.1006 - val_accuracy: 0.9698\n",
      "Epoch 9/10\n",
      "100/100 - 2s - loss: 0.1197 - accuracy: 0.9648 - val_loss: 0.0941 - val_accuracy: 0.9710\n",
      "Epoch 10/10\n",
      "100/100 - 2s - loss: 0.1051 - accuracy: 0.9677 - val_loss: 0.1078 - val_accuracy: 0.9662\n",
      "\n",
      "*** Building model for cnn ***\n",
      "\n",
      "Train for 100 steps, validate for 100 steps\n",
      "Epoch 1/10\n",
      "2019-12-06 02:45:34.052532: I tensorflow/stream_executor/platform/default/dso_loader.cc:44] Successfully opened dynamic library libcudnn.so.7\n",
      "100/100 - 9s - loss: 0.7030 - accuracy: 0.7781 - val_loss: 0.1788 - val_accuracy: 0.9439\n",
      "Epoch 2/10\n",
      "100/100 - 2s - loss: 0.1953 - accuracy: 0.9431 - val_loss: 0.1228 - val_accuracy: 0.9615\n",
      "Epoch 3/10\n",
      "100/100 - 2s - loss: 0.1196 - accuracy: 0.9622 - val_loss: 0.0887 - val_accuracy: 0.9721\n",
      "Epoch 4/10\n",
      "100/100 - 2s - loss: 0.1158 - accuracy: 0.9655 - val_loss: 0.0744 - val_accuracy: 0.9764\n",
      "Epoch 5/10\n",
      "100/100 - 2s - loss: 0.0909 - accuracy: 0.9724 - val_loss: 0.0598 - val_accuracy: 0.9807\n",
      "Epoch 6/10\n",
      "100/100 - 2s - loss: 0.0977 - accuracy: 0.9700 - val_loss: 0.0552 - val_accuracy: 0.9829\n",
      "Epoch 7/10\n",
      "100/100 - 7s - loss: 0.0713 - accuracy: 0.9792 - val_loss: 0.0506 - val_accuracy: 0.9833\n",
      "Epoch 8/10\n",
      "100/100 - 2s - loss: 0.0716 - accuracy: 0.9795 - val_loss: 0.0443 - val_accuracy: 0.9863\n",
      "Epoch 9/10\n",
      "100/100 - 2s - loss: 0.0571 - accuracy: 0.9832 - val_loss: 0.0439 - val_accuracy: 0.9856\n",
      "Epoch 10/10\n",
      "100/100 - 2s - loss: 0.0553 - accuracy: 0.9826 - val_loss: 0.0467 - val_accuracy: 0.9845\n",
      "...\n",
      "----------------------------------------------------------------------\n",
      "Ran 5 tests in 132.930s\n",
      "\n",
      "OK\n"
     ]
    }
   ],
   "source": [
    "!python3 -m mnist_trainer.trainer.test"
   ]
  },
  {
   "cell_type": "markdown",
   "metadata": {},
   "source": [
    "Now that we know that our models are working as expected, let's run it on the [Google Cloud AI Platform](https://cloud.google.com/ml-engine/docs/). We can run it as a python module locally first using the command line.\n",
    "\n",
    "The below cell transfers some of our variables to the command line as well as create a job directory including a timestamp. This is where our model and tensorboard data will be stored."
   ]
  },
  {
   "cell_type": "code",
   "execution_count": 8,
   "metadata": {},
   "outputs": [],
   "source": [
    "current_time = datetime.now().strftime(\"%y%m%d_%H%M%S\")\n",
    "model_type = 'cnn'\n",
    "\n",
    "os.environ[\"MODEL_TYPE\"] = model_type\n",
    "os.environ[\"JOB_DIR\"] = \"mnist_trainer/models/{}_{}/\".format(\n",
    "    model_type, current_time)"
   ]
  },
  {
   "cell_type": "markdown",
   "metadata": {},
   "source": [
    "The cell below runs the local version of the code. The epochs and steps_per_epoch flag can be changed to run for longer or shorther, as defined in our `mnist_models/trainer/task.py` file."
   ]
  },
  {
   "cell_type": "code",
   "execution_count": 9,
   "metadata": {},
   "outputs": [
    {
     "name": "stdout",
     "output_type": "stream",
     "text": [
      "Train for 50 steps, validate for 100 steps\n",
      "Epoch 1/5\n",
      "50/50 - 9s - loss: 0.9645 - accuracy: 0.6884 - val_loss: 0.2853 - val_accuracy: 0.9127\n",
      "Epoch 2/5\n",
      "50/50 - 1s - loss: 0.2951 - accuracy: 0.9078 - val_loss: 0.1760 - val_accuracy: 0.9480\n",
      "Epoch 3/5\n",
      "50/50 - 1s - loss: 0.2264 - accuracy: 0.9306 - val_loss: 0.1307 - val_accuracy: 0.9628\n",
      "Epoch 4/5\n",
      "50/50 - 1s - loss: 0.1619 - accuracy: 0.9512 - val_loss: 0.0905 - val_accuracy: 0.9721\n",
      "Epoch 5/5\n",
      "50/50 - 1s - loss: 0.1529 - accuracy: 0.9546 - val_loss: 0.0846 - val_accuracy: 0.9741\n"
     ]
    },
    {
     "name": "stderr",
     "output_type": "stream",
     "text": [
      "2019-12-06 02:59:54.212288: I tensorflow/stream_executor/platform/default/dso_loader.cc:44] Successfully opened dynamic library libcudart.so.10.0\n",
      "2019-12-06 02:59:56.249571: I tensorflow/stream_executor/platform/default/dso_loader.cc:44] Successfully opened dynamic library libcuda.so.1\n",
      "2019-12-06 02:59:56.252850: I tensorflow/stream_executor/cuda/cuda_gpu_executor.cc:1006] successful NUMA node read from SysFS had negative value (-1), but there must be at least one NUMA node, so returning NUMA node zero\n",
      "2019-12-06 02:59:56.253130: I tensorflow/core/common_runtime/gpu/gpu_device.cc:1618] Found device 0 with properties: \n",
      "name: Tesla K80 major: 3 minor: 7 memoryClockRate(GHz): 0.562\n",
      "pciBusID: 0000:00:04.0\n",
      "2019-12-06 02:59:56.253161: I tensorflow/stream_executor/platform/default/dso_loader.cc:44] Successfully opened dynamic library libcudart.so.10.0\n",
      "2019-12-06 02:59:56.254760: I tensorflow/stream_executor/platform/default/dso_loader.cc:44] Successfully opened dynamic library libcublas.so.10.0\n",
      "2019-12-06 02:59:56.256283: I tensorflow/stream_executor/platform/default/dso_loader.cc:44] Successfully opened dynamic library libcufft.so.10.0\n",
      "2019-12-06 02:59:56.256599: I tensorflow/stream_executor/platform/default/dso_loader.cc:44] Successfully opened dynamic library libcurand.so.10.0\n",
      "2019-12-06 02:59:56.258476: I tensorflow/stream_executor/platform/default/dso_loader.cc:44] Successfully opened dynamic library libcusolver.so.10.0\n",
      "2019-12-06 02:59:56.259932: I tensorflow/stream_executor/platform/default/dso_loader.cc:44] Successfully opened dynamic library libcusparse.so.10.0\n",
      "2019-12-06 02:59:56.264135: I tensorflow/stream_executor/platform/default/dso_loader.cc:44] Successfully opened dynamic library libcudnn.so.7\n",
      "2019-12-06 02:59:56.264266: I tensorflow/stream_executor/cuda/cuda_gpu_executor.cc:1006] successful NUMA node read from SysFS had negative value (-1), but there must be at least one NUMA node, so returning NUMA node zero\n",
      "2019-12-06 02:59:56.264573: I tensorflow/stream_executor/cuda/cuda_gpu_executor.cc:1006] successful NUMA node read from SysFS had negative value (-1), but there must be at least one NUMA node, so returning NUMA node zero\n",
      "2019-12-06 02:59:56.264818: I tensorflow/core/common_runtime/gpu/gpu_device.cc:1746] Adding visible gpu devices: 0\n",
      "2019-12-06 02:59:56.265092: I tensorflow/core/platform/cpu_feature_guard.cc:142] Your CPU supports instructions that this TensorFlow binary was not compiled to use: AVX2 FMA\n",
      "2019-12-06 02:59:56.272913: I tensorflow/core/platform/profile_utils/cpu_utils.cc:94] CPU Frequency: 2200000000 Hz\n",
      "2019-12-06 02:59:56.273227: I tensorflow/compiler/xla/service/service.cc:168] XLA service 0x55d9165c5300 executing computations on platform Host. Devices:\n",
      "2019-12-06 02:59:56.273256: I tensorflow/compiler/xla/service/service.cc:175]   StreamExecutor device (0): Host, Default Version\n",
      "2019-12-06 02:59:56.345393: I tensorflow/stream_executor/cuda/cuda_gpu_executor.cc:1006] successful NUMA node read from SysFS had negative value (-1), but there must be at least one NUMA node, so returning NUMA node zero\n",
      "2019-12-06 02:59:56.345807: I tensorflow/compiler/xla/service/service.cc:168] XLA service 0x55d9165dd640 executing computations on platform CUDA. Devices:\n",
      "2019-12-06 02:59:56.345840: I tensorflow/compiler/xla/service/service.cc:175]   StreamExecutor device (0): Tesla K80, Compute Capability 3.7\n",
      "2019-12-06 02:59:56.346099: I tensorflow/stream_executor/cuda/cuda_gpu_executor.cc:1006] successful NUMA node read from SysFS had negative value (-1), but there must be at least one NUMA node, so returning NUMA node zero\n",
      "2019-12-06 02:59:56.346372: I tensorflow/core/common_runtime/gpu/gpu_device.cc:1618] Found device 0 with properties: \n",
      "name: Tesla K80 major: 3 minor: 7 memoryClockRate(GHz): 0.562\n",
      "pciBusID: 0000:00:04.0\n",
      "2019-12-06 02:59:56.346443: I tensorflow/stream_executor/platform/default/dso_loader.cc:44] Successfully opened dynamic library libcudart.so.10.0\n",
      "2019-12-06 02:59:56.346521: I tensorflow/stream_executor/platform/default/dso_loader.cc:44] Successfully opened dynamic library libcublas.so.10.0\n",
      "2019-12-06 02:59:56.346562: I tensorflow/stream_executor/platform/default/dso_loader.cc:44] Successfully opened dynamic library libcufft.so.10.0\n",
      "2019-12-06 02:59:56.346595: I tensorflow/stream_executor/platform/default/dso_loader.cc:44] Successfully opened dynamic library libcurand.so.10.0\n",
      "2019-12-06 02:59:56.346633: I tensorflow/stream_executor/platform/default/dso_loader.cc:44] Successfully opened dynamic library libcusolver.so.10.0\n",
      "2019-12-06 02:59:56.346671: I tensorflow/stream_executor/platform/default/dso_loader.cc:44] Successfully opened dynamic library libcusparse.so.10.0\n",
      "2019-12-06 02:59:56.346705: I tensorflow/stream_executor/platform/default/dso_loader.cc:44] Successfully opened dynamic library libcudnn.so.7\n",
      "2019-12-06 02:59:56.346797: I tensorflow/stream_executor/cuda/cuda_gpu_executor.cc:1006] successful NUMA node read from SysFS had negative value (-1), but there must be at least one NUMA node, so returning NUMA node zero\n",
      "2019-12-06 02:59:56.347142: I tensorflow/stream_executor/cuda/cuda_gpu_executor.cc:1006] successful NUMA node read from SysFS had negative value (-1), but there must be at least one NUMA node, so returning NUMA node zero\n",
      "2019-12-06 02:59:56.347453: I tensorflow/core/common_runtime/gpu/gpu_device.cc:1746] Adding visible gpu devices: 0\n",
      "2019-12-06 02:59:56.347558: I tensorflow/stream_executor/platform/default/dso_loader.cc:44] Successfully opened dynamic library libcudart.so.10.0\n",
      "2019-12-06 02:59:56.854592: I tensorflow/core/common_runtime/gpu/gpu_device.cc:1159] Device interconnect StreamExecutor with strength 1 edge matrix:\n",
      "2019-12-06 02:59:56.854649: I tensorflow/core/common_runtime/gpu/gpu_device.cc:1165]      0 \n",
      "2019-12-06 02:59:56.854670: I tensorflow/core/common_runtime/gpu/gpu_device.cc:1178] 0:   N \n",
      "2019-12-06 02:59:56.855025: I tensorflow/stream_executor/cuda/cuda_gpu_executor.cc:1006] successful NUMA node read from SysFS had negative value (-1), but there must be at least one NUMA node, so returning NUMA node zero\n",
      "2019-12-06 02:59:56.855387: I tensorflow/stream_executor/cuda/cuda_gpu_executor.cc:1006] successful NUMA node read from SysFS had negative value (-1), but there must be at least one NUMA node, so returning NUMA node zero\n",
      "2019-12-06 02:59:56.855690: I tensorflow/core/common_runtime/gpu/gpu_device.cc:1304] Created TensorFlow device (/job:localhost/replica:0/task:0/device:GPU:0 with 188 MB memory) -> physical GPU (device: 0, name: Tesla K80, pci bus id: 0000:00:04.0, compute capability: 3.7)\n",
      "2019-12-06 02:59:58.394500: I tensorflow/stream_executor/platform/default/dso_loader.cc:44] Successfully opened dynamic library libcublas.so.10.0\n",
      "2019-12-06 03:00:03.990900: I tensorflow/stream_executor/platform/default/dso_loader.cc:44] Successfully opened dynamic library libcudnn.so.7\n",
      "2019-12-06 03:00:04.909637: I tensorflow/core/profiler/lib/profiler_session.cc:184] Profiler session started.\n",
      "2019-12-06 03:00:04.911469: I tensorflow/stream_executor/platform/default/dso_loader.cc:44] Successfully opened dynamic library libcupti.so.10.0\n",
      "2019-12-06 03:00:05.125687: I tensorflow/core/platform/default/device_tracer.cc:588] Collecting 122 kernel records, 8 memcpy records.\n",
      "WARNING:tensorflow:Method (on_train_batch_end) is slow compared to the batch update (0.103668). Check your callbacks.\n",
      "2019-12-06 03:00:12.894422: W tensorflow/python/util/util.cc:299] Sets are not currently considered sequences, but this may change in the future, so consider avoiding using them.\n",
      "WARNING:tensorflow:From /usr/local/lib/python3.5/dist-packages/tensorflow_core/python/ops/resource_variable_ops.py:1781: calling BaseResourceVariable.__init__ (from tensorflow.python.ops.resource_variable_ops) with constraint is deprecated and will be removed in a future version.\n",
      "Instructions for updating:\n",
      "If using Keras pass *_constraint arguments to layers.\n"
     ]
    }
   ],
   "source": [
    "%%bash\n",
    "python3 -m mnist_trainer.trainer.task \\\n",
    "    --job-dir=$JOB_DIR \\\n",
    "    --epochs=5 \\\n",
    "    --steps_per_epoch=50 \\\n",
    "    --model_type=$MODEL_TYPE"
   ]
  },
  {
   "cell_type": "markdown",
   "metadata": {},
   "source": [
    "## Training on the cloud\n",
    "\n",
    "Since we're using an unreleased version of TensorFlow on AI Platform, we can instead use a [Deep Learning Container](https://cloud.google.com/ai-platform/deep-learning-containers/docs/overview) in order to take advantage of libraries and applications not normally packaged with AI Platform. Below is a simple [Dockerlife](https://docs.docker.com/engine/reference/builder/) which copies our code to be used in a TF2 environment."
   ]
  },
  {
   "cell_type": "code",
   "execution_count": 10,
   "metadata": {},
   "outputs": [
    {
     "name": "stdout",
     "output_type": "stream",
     "text": [
      "Writing mnist_trainer/Dockerfile\n"
     ]
    }
   ],
   "source": [
    "%%writefile mnist_trainer/Dockerfile\n",
    "FROM gcr.io/deeplearning-platform-release/tf2-cpu\n",
    "COPY trainer /trainer\n",
    "ENTRYPOINT [\"python3\", \"-m\", \"trainer.task\"]"
   ]
  },
  {
   "cell_type": "markdown",
   "metadata": {},
   "source": [
    "The below command builds the image and ships it off to Google Cloud so it can be used for AI Platform. When built, it will show up [here](https://console.corp.google.com/gcr) with the name `mnist_trainer`. ([Click here](https://console.cloud.google.com/cloud-build) to enable Cloud Build)"
   ]
  },
  {
   "cell_type": "code",
   "execution_count": null,
   "metadata": {},
   "outputs": [],
   "source": [
    "!gcloud builds submit --tag $IMAGE_URI mnist_trainer/"
   ]
  },
  {
   "cell_type": "markdown",
   "metadata": {},
   "source": [
    "Finally, we can kickoff the [AI Platform training job](https://cloud.google.com/sdk/gcloud/reference/ai-platform/jobs/submit/training). We can pass in our docker image using the `master-image-uri` flag."
   ]
  },
  {
   "cell_type": "code",
   "execution_count": 12,
   "metadata": {},
   "outputs": [],
   "source": [
    "current_time = datetime.now().strftime(\"%y%m%d_%H%M%S\")\n",
    "model_type = 'cnn'\n",
    "\n",
    "os.environ[\"MODEL_TYPE\"] = model_type\n",
    "os.environ[\"JOB_DIR\"] = \"gs://{}/mnist_{}_{}/\".format(\n",
    "    BUCKET, model_type, current_time)\n",
    "os.environ[\"JOB_NAME\"] = \"mnist_{}_{}\".format(\n",
    "    model_type, current_time)"
   ]
  },
  {
   "cell_type": "code",
   "execution_count": 13,
   "metadata": {},
   "outputs": [
    {
     "name": "stdout",
     "output_type": "stream",
     "text": [
      "gs://ddetering-experimental/mnist_cnn_191206_030921/ us-central1 mnist_cnn_191206_030921\n",
      "jobId: mnist_cnn_191206_030921\n",
      "state: QUEUED\n"
     ]
    },
    {
     "name": "stderr",
     "output_type": "stream",
     "text": [
      "Job [mnist_cnn_191206_030921] submitted successfully.\n",
      "Your job is still active. You may view the status of your job with the command\n",
      "\n",
      "  $ gcloud ai-platform jobs describe mnist_cnn_191206_030921\n",
      "\n",
      "or continue streaming the logs with the command\n",
      "\n",
      "  $ gcloud ai-platform jobs stream-logs mnist_cnn_191206_030921\n"
     ]
    }
   ],
   "source": [
    "%%bash\n",
    "echo $JOB_DIR $REGION $JOB_NAME\n",
    "gcloud ai-platform jobs submit training $JOB_NAME \\\n",
    "    --staging-bucket=gs://$BUCKET \\\n",
    "    --region=$REGION \\\n",
    "    --master-image-uri=$IMAGE_URI \\\n",
    "    --scale-tier=BASIC_GPU \\\n",
    "    --job-dir=$JOB_DIR \\\n",
    "    -- \\\n",
    "    --model_type=$MODEL_TYPE"
   ]
  },
  {
   "cell_type": "markdown",
   "metadata": {},
   "source": [
    "Can't wait to see the results? Run the code below and copy the output into the [Google Cloud Shell](https://console.cloud.google.com/home/dashboard?cloudshell=true) to follow along with TensorBoard. Look at the web preview on port 6006."
   ]
  },
  {
   "cell_type": "code",
   "execution_count": null,
   "metadata": {},
   "outputs": [],
   "source": [
    "!echo \"tensorboard --logdir $JOB_DIR\""
   ]
  },
  {
   "cell_type": "markdown",
   "metadata": {},
   "source": [
    "## Deploying and predicting with model\n",
    "\n",
    "Once you have a model you're proud of, let's deploy it! All we need to do is give AI Platform the location of the model. Below uses the keras export path of the previous job, but `${JOB_DIR}keras_export/` can always be changed to a different path.\n",
    "\n",
    "Even though we're using a 1.14 runtime, it's compatable with TF2 exported models. Phew!\n",
    "\n",
    "Uncomment the delete commands below if you are getting an \"already exists error\" and want to deploy a new model."
   ]
  },
  {
   "cell_type": "code",
   "execution_count": 15,
   "metadata": {},
   "outputs": [
    {
     "name": "stdout",
     "output_type": "stream",
     "text": [
      "Deleting and deploying mnist cnn from gs://ddetering-experimental/mnist_cnn_191206_030921/keras_export/ ... this will take a few minutes\n"
     ]
    },
    {
     "name": "stderr",
     "output_type": "stream",
     "text": [
      "Created ml engine model [projects/ddetering-experimental/models/mnist].\n",
      "Creating version (this might take a few minutes)......\n",
      ".........................................................................................................................................................................................................................................................................................................................................................................................done.\n"
     ]
    }
   ],
   "source": [
    "%%bash\n",
    "MODEL_NAME=\"mnist\"\n",
    "MODEL_VERSION=${MODEL_TYPE}\n",
    "MODEL_LOCATION=${JOB_DIR}keras_export/\n",
    "echo \"Deleting and deploying $MODEL_NAME $MODEL_VERSION from $MODEL_LOCATION ... this will take a few minutes\"\n",
    "#yes | gcloud ai-platform versions delete ${MODEL_VERSION} --model ${MODEL_NAME}\n",
    "#yes | gcloud ai-platform models delete ${MODEL_NAME}\n",
    "gcloud ai-platform models create ${MODEL_NAME} --regions $REGION\n",
    "gcloud ai-platform versions create ${MODEL_VERSION} \\\n",
    "    --model ${MODEL_NAME} \\\n",
    "    --origin ${MODEL_LOCATION} \\\n",
    "    --framework tensorflow \\\n",
    "    --runtime-version=1.14"
   ]
  },
  {
   "cell_type": "markdown",
   "metadata": {},
   "source": [
    "To predict with the model, let's take one of the example images.\n",
    "\n",
    "**TODO 4**: Write a `.json` file with image data to send to an AI Platform deployed model"
   ]
  },
  {
   "cell_type": "code",
   "execution_count": 16,
   "metadata": {},
   "outputs": [
    {
     "data": {
      "image/png": "[encoded data removed]",
      "text/plain": [
       "<Figure size 432x288 with 1 Axes>"
      ]
     },
     "metadata": {
      "needs_background": "light"
     },
     "output_type": "display_data"
    }
   ],
   "source": [
    "import json, codecs\n",
    "import tensorflow as tf\n",
    "import matplotlib.pyplot as plt\n",
    "from mnist_trainer.trainer import util\n",
    "\n",
    "HEIGHT = 28\n",
    "WIDTH = 28\n",
    "IMGNO = 12\n",
    "\n",
    "mnist = tf.keras.datasets.mnist.load_data()\n",
    "(x_train, y_train), (x_test, y_test) = mnist\n",
    "test_image = x_test[IMGNO]\n",
    "\n",
    "jsondata = test_image.reshape(HEIGHT, WIDTH, 1).tolist()\n",
    "json.dump(jsondata, codecs.open(\"test.json\", \"w\", encoding = \"utf-8\"))\n",
    "plt.imshow(test_image.reshape(HEIGHT, WIDTH));"
   ]
  },
  {
   "cell_type": "markdown",
   "metadata": {},
   "source": [
    "Finally, we can send it to the prediction service. The output will have a 1 in the index of the corresponding digit it is predicting. Congrats! You've completed the lab!"
   ]
  },
  {
   "cell_type": "code",
   "execution_count": 17,
   "metadata": {},
   "outputs": [
    {
     "name": "stdout",
     "output_type": "stream",
     "text": [
      "SOFTMAX_3\n",
      "[0.0, 0.0, 0.0, 0.0, 0.0, 0.0, 0.0, 0.0, 0.0, 1.0]\n"
     ]
    }
   ],
   "source": [
    "%%bash\n",
    "gcloud ai-platform predict \\\n",
    "    --model=mnist \\\n",
    "    --version=${MODEL_TYPE} \\\n",
    "    --json-instances=./test.json"
   ]
  },
  {
   "cell_type": "markdown",
   "metadata": {},
   "source": [
    "Copyright 2019 Google Inc.\n",
    "Licensed under the Apache License, Version 2.0 (the \"License\"); you may not use this file except in compliance with the License. You may obtain a copy of the License at\n",
    "http://www.apache.org/licenses/LICENSE-2.0\n",
    "Unless required by applicable law or agreed to in writing, software distributed under the License is distributed on an \"AS IS\" BASIS, WITHOUT WARRANTIES OR CONDITIONS OF ANY KIND, either express or implied. See the License for the specific language governing permissions and limitations under the License."
   ]
  }
 ],
 "metadata": {
  "kernelspec": {
   "display_name": "Python 3",
   "language": "python",
   "name": "python3"
  },
  "language_info": {
   "codemirror_mode": {
    "name": "ipython",
    "version": 3
   },
   "file_extension": ".py",
   "mimetype": "text/x-python",
   "name": "python",
   "nbconvert_exporter": "python",
   "pygments_lexer": "ipython3",
   "version": "3.5.3"
  }
 },
 "nbformat": 4,
 "nbformat_minor": 4
}
